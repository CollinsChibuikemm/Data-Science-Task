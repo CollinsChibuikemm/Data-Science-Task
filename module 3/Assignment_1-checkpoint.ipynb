{
 "cells": [
  {
   "cell_type": "markdown",
   "metadata": {},
   "source": [
    "\n",
    "# BIA 479 B :  Advanced Machine Learning with Python\n",
    "## Assignment 1  - Due Monday February 03, 2020 at 11:59 pm   ( 5 points in total)\n",
    "## Instructor : Dr. Ali Dag\n",
    "\n",
    "## Question 1 and 2 are worth 0.5 pts each. Question 3,4,5 and 6 are worth 1 pts each. \n",
    "\n",
    "\n",
    "#### Note : Submit .ipynb (this) file to the canvas. Name your .ipynb file as “Yourname_Assignment1.ipynb\" before submitting.\n",
    "\n",
    "While working on the assignment;\n",
    "- Use your judgement\n",
    "- State your assumptions (what do you understand)\n",
    "- Solve the problem\n",
    "\n",
    "Good luck!\n"
   ]
  },
  {
   "cell_type": "markdown",
   "metadata": {},
   "source": [
    "\n",
    "## Question 1 (Data Types, Conversions, Operators and String Concatenation)\n",
    "\n",
    "Create a variable that you like and assign 123.0 (float number) to this variable.\n",
    "Create another variable that you like and assign 45 (string) to this variable.\n",
    "\n",
    "Now, by using these two variables and using the approppriate conversions and operations, please print  \"12345\", which should be a string.\n",
    "After printing the result, add \"5\" to the result to obtain \"12350\". \n",
    "\n",
    "Hint : Note that the data types that you are dealing with different. In this question, you need to use float, string, and integer data types. In addition, you will need to convert them to each other as you need.\n",
    "\n",
    "Note : Use minimum number of cells you can\n",
    "\n"
   ]
  },
  {
   "cell_type": "code",
   "execution_count": null,
   "metadata": {},
   "outputs": [],
   "source": []
  },
  {
   "cell_type": "code",
   "execution_count": null,
   "metadata": {},
   "outputs": [],
   "source": []
  },
  {
   "cell_type": "markdown",
   "metadata": {},
   "source": [
    "\n",
    "## Question 2 (Variable Assignment and Simple Math Operators)\n",
    "\n",
    "* Assume that you are working for a Digital Marketing company as a part time student. Your hourly pay is $15.00. If you work after hours (after 5 pm or weekends), then your hourly rate is doubled.\n",
    "\n",
    "* Assume that you worked 10 regular hours, and 5 after hours.\n",
    "* Please calculate your total pay, by creating two variables for 1) the amount of regular hours, and 2)the amount of after hours.\n",
    "\n",
    "Note: Ypu do not need to assign variables for your hourly pays, as they do not change from week to week.\n",
    "Note: Use minimum number of cells you can.\n"
   ]
  },
  {
   "cell_type": "code",
   "execution_count": null,
   "metadata": {},
   "outputs": [],
   "source": []
  },
  {
   "cell_type": "code",
   "execution_count": null,
   "metadata": {},
   "outputs": [],
   "source": []
  },
  {
   "cell_type": "markdown",
   "metadata": {},
   "source": [
    "## Question 3 (Variable Assignment and Simple Math Operators)\n",
    "\n",
    "* Assume that you are working for a Digital Marketing company as a part time student. Your hourly pay is $15.00. If you work over 20 hours/week, then your hourly rate is doubled.\n",
    "\n",
    "* Assume that you worked 25 hours in total.\n",
    "* Please calculate your total pay, by creating only one variable (for the amount of regular hours).\n",
    "Note: Ypu do not need to assign variables for your hourly pays, as they do not change from week to week.\n",
    "Note: Use minimum number of cells you can."
   ]
  },
  {
   "cell_type": "code",
   "execution_count": null,
   "metadata": {},
   "outputs": [],
   "source": []
  },
  {
   "cell_type": "code",
   "execution_count": null,
   "metadata": {},
   "outputs": [],
   "source": []
  },
  {
   "cell_type": "markdown",
   "metadata": {},
   "source": [
    "## Question 4 (Strings)\n",
    "\n",
    "* By using one print function (only), please print the following statement in the format that it is given (in four consecutive rows, without anything in between).\n",
    " \n",
    " \n",
    "- Welcome to Creighton\n",
    "- Welcome to \n",
    "- Heider\n",
    "- Welcome to BIA 479\n",
    "\n"
   ]
  },
  {
   "cell_type": "code",
   "execution_count": null,
   "metadata": {},
   "outputs": [],
   "source": []
  },
  {
   "cell_type": "code",
   "execution_count": null,
   "metadata": {},
   "outputs": [],
   "source": []
  },
  {
   "cell_type": "markdown",
   "metadata": {},
   "source": [
    "## Question 5 (String Operators and Concatenation)\n",
    "\n",
    "* Create two variables, and assign them the following two strings.\n",
    "\n",
    "1) \"Welcome ALL\", and 2) \"HI everybody\".\n",
    "\n",
    "\n",
    "* Now, by using these two strings, create a new sentence that prints \"WELCOME EVERYBODY\".\n",
    "\n",
    "Hint : You will do string slicing, concatenation and .lower and .upper functions in this question.\n",
    "\n",
    "Note : Use minimum number of cells you can.\n",
    "\n"
   ]
  },
  {
   "cell_type": "code",
   "execution_count": null,
   "metadata": {},
   "outputs": [],
   "source": []
  },
  {
   "cell_type": "code",
   "execution_count": null,
   "metadata": {},
   "outputs": [],
   "source": []
  },
  {
   "cell_type": "markdown",
   "metadata": {
    "collapsed": true
   },
   "source": [
    "\n",
    "## Question 6 (String Immutability and Operators)\n",
    "\n",
    "* Create a variable, and assign the following string to this variable.\n",
    "\n",
    "\"I wrote two articles\"\n",
    "\n",
    "\n",
    "\n",
    "\n",
    "* Now, replace the word \"wrote\" with \"read\", so the new variable (string) reads as \"I read two articles\" instead of the original one.\n",
    "\n",
    "\n",
    "Hint : You will do two string slicings,and a new variable assignmnent,string concatenation\n",
    "\n",
    "Note : Use minimum number of cells you can.\n",
    "\n",
    "\n"
   ]
  },
  {
   "cell_type": "code",
   "execution_count": null,
   "metadata": {},
   "outputs": [],
   "source": []
  },
  {
   "cell_type": "code",
   "execution_count": null,
   "metadata": {},
   "outputs": [],
   "source": []
  }
 ],
 "metadata": {
  "kernelspec": {
   "display_name": "Python 3",
   "language": "python",
   "name": "python3"
  },
  "language_info": {
   "codemirror_mode": {
    "name": "ipython",
    "version": 3
   },
   "file_extension": ".py",
   "mimetype": "text/x-python",
   "name": "python",
   "nbconvert_exporter": "python",
   "pygments_lexer": "ipython3",
   "version": "3.8.3"
  }
 },
 "nbformat": 4,
 "nbformat_minor": 2
}
